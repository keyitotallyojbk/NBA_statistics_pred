{
 "cells": [
  {
   "cell_type": "code",
   "execution_count": 1,
   "metadata": {},
   "outputs": [],
   "source": [
    "import pandas as pd\n",
    "import numpy as np\n",
    "from matplotlib import pyplot as plt"
   ]
  },
  {
   "cell_type": "code",
   "execution_count": 47,
   "metadata": {},
   "outputs": [
    {
     "name": "stdout",
     "output_type": "stream",
     "text": [
      "Dataset size: (45920, 24)\n",
      "Dataset attributes: Index(['TEAM', 'DATE', 'MATCHUP', 'W/L', 'MIN', 'PTS', 'FGM', 'FGA', 'FG%',\n",
      "       '3PM', '3PA', '3P%', 'FTM', 'FTA', 'FT%', 'OREB', 'DREB', 'REB', 'AST',\n",
      "       'STL', 'BLK', 'TOV', 'PF', '+/-'],\n",
      "      dtype='object')\n"
     ]
    }
   ],
   "source": [
    "with open('nba_stats.csv', 'r') as f:\n",
    "    data = pd.read_csv(f)\n",
    "\n",
    "print(\"Dataset size: {}\".format(data.shape))\n",
    "print(\"Dataset attributes: {}\".format(data.keys()))"
   ]
  },
  {
   "cell_type": "code",
   "execution_count": 48,
   "metadata": {},
   "outputs": [
    {
     "name": "stdout",
     "output_type": "stream",
     "text": [
      "Testset shape: (9184, 19)\t Trainingset shape: (36736, 19)\n"
     ]
    }
   ],
   "source": [
    "# preprocess data, for classification purpose, assign win to 1 and lose to 0\n",
    "data['W/L'] = [1 if i == 'W' else 0 for i in data['W/L']]\n",
    "# randomly split data into 9:1 where 9 for training and 1 for testing\n",
    "data = data.sample(frac=1.0)  \n",
    "cut_idx = int(round(0.2 * data.shape[0]))\n",
    "data_test, data_train = data.iloc[:cut_idx], data.iloc[cut_idx:]\n",
    "\n",
    "drop_list = ['TEAM', 'DATE', 'MATCHUP', 'PTS', '+/-']\n",
    "data_test = data_test.drop(drop_list, axis=1)\n",
    "data_train = data_train.drop(drop_list, axis=1)\n",
    "data_test.to_csv(\"testset.csv\", index=False, header=None)\n",
    "data_train.to_csv(\"trainset.csv\", index=False, header=None)\n",
    "print(\"Testset shape: {}\\t Trainingset shape: {}\".format(data_test.shape, data_train.shape))"
   ]
  },
  {
   "cell_type": "markdown",
   "metadata": {},
   "source": [
    "<font face=consola, size=4>\n",
    "For test case we run a simple random forest algorithm implemented in sklearn:\n",
    "<font>"
   ]
  },
  {
   "cell_type": "code",
   "execution_count": 55,
   "metadata": {},
   "outputs": [
    {
     "name": "stdout",
     "output_type": "stream",
     "text": [
      "[0 1 0 ... 1 1 1]\n",
      "0.7969294425087108\n"
     ]
    }
   ],
   "source": [
    "from sklearn.ensemble import RandomForestClassifier\n",
    "# first divide raw data into statistics and labels\n",
    "train_set = data_train.drop('W/L', axis=1)\n",
    "train_label = data_train['W/L']\n",
    "test_set = data_test.drop('W/L', axis=1)\n",
    "test_label = data_test['W/L']\n",
    "\n",
    "clf = RandomForestClassifier(max_depth=10, random_state=0)\n",
    "clf.fit(train_set, train_label)\n",
    "print(clf.predict(test_set));\n",
    "print(clf.score(test_set, test_label))"
   ]
  },
  {
   "cell_type": "markdown",
   "metadata": {},
   "source": [
    "<font face=consola, size=4>\n",
    "This time we try KNN classifier:\n",
    "<font>"
   ]
  },
  {
   "cell_type": "code",
   "execution_count": 51,
   "metadata": {},
   "outputs": [
    {
     "name": "stdout",
     "output_type": "stream",
     "text": [
      "[0 0 0 ... 1 1 1]\n",
      "0.7525043554006968\n"
     ]
    }
   ],
   "source": [
    "from sklearn.neighbors import KNeighborsClassifier\n",
    "neigh = KNeighborsClassifier(n_neighbors=3)\n",
    "neigh.fit(train_set, train_label)\n",
    "print(neigh.predict(test_set))\n",
    "print(neigh.score(test_set, test_label))"
   ]
  },
  {
   "cell_type": "markdown",
   "metadata": {},
   "source": [
    "<font face=consola, size=4>\n",
    "Again we try Decision Tree classifier:\n",
    "<font>"
   ]
  },
  {
   "cell_type": "code",
   "execution_count": 53,
   "metadata": {},
   "outputs": [
    {
     "name": "stdout",
     "output_type": "stream",
     "text": [
      "[1 1 1 ... 1 0 1]\n",
      "0.739329268292683\n"
     ]
    }
   ],
   "source": [
    "from sklearn.tree import DecisionTreeClassifier\n",
    "decision_clf = DecisionTreeClassifier(random_state=0)\n",
    "decision_clf.fit(train_set, train_label)\n",
    "print(decision_clf.predict(test_set))\n",
    "print(decision_clf.score(test_set, test_label))"
   ]
  },
  {
   "cell_type": "markdown",
   "metadata": {},
   "source": [
    "<font face=consola, size=4>\n",
    "Logistic Regression classifier:\n",
    "<font>"
   ]
  },
  {
   "cell_type": "code",
   "execution_count": 54,
   "metadata": {},
   "outputs": [
    {
     "name": "stdout",
     "output_type": "stream",
     "text": [
      "[0 1 0 ... 1 0 1]\n",
      "0.8422256097560976\n"
     ]
    }
   ],
   "source": [
    "from sklearn.linear_model import LogisticRegression\n",
    "logic_cls = LogisticRegression(random_state=0).fit(train_set, train_label)\n",
    "print(logic_cls.predict(test_set))\n",
    "print(logic_cls.score(test_set, test_label))"
   ]
  },
  {
   "cell_type": "markdown",
   "metadata": {},
   "source": [
    "<font face=consola, size=4>\n",
    "Support Vector Machine:\n",
    "<font>"
   ]
  },
  {
   "cell_type": "code",
   "execution_count": 57,
   "metadata": {},
   "outputs": [
    {
     "name": "stdout",
     "output_type": "stream",
     "text": [
      "[1 1 1 ... 1 1 1]\n",
      "0.6821646341463414\n"
     ]
    }
   ],
   "source": [
    "from sklearn.svm import SVC\n",
    "svm_cls = SVC(gamma='auto').fit(train_set, train_label)\n",
    "print(svm_cls.predict(test_set))\n",
    "print(svm_cls.score(test_set, test_label))"
   ]
  },
  {
   "cell_type": "code",
   "execution_count": 59,
   "metadata": {},
   "outputs": [],
   "source": [
    "import torch\n",
    "import torch.nn as nn\n",
    "\n",
    "class MLP(nn.Module):\n",
    "    def __init__(self, n_feat, n_classes):\n",
    "        super(MLP, self).__init__()\n",
    "        self.layer1 = nn.Sequential(\n",
    "            nn.Linear(n_feat, 10),\n",
    "            nn.ReLU(),\n",
    "        )\n",
    "        self.layer2 = nn.Sequential(\n",
    "            nn.Linear(10, 10),\n",
    "            nn.ReLU(),\n",
    "        )\n",
    "        self.classifier = nn.Linear(10, n_classes)\n",
    "    \n",
    "    def forward(x):\n",
    "        x = self.layer1(x)\n",
    "        x = self.layer2(x)\n",
    "        output = self.classifier(x)\n",
    "        return output\n",
    "\n",
    "mlp = MLP(n_feat=train_set.shape[1], n_classes=2)\n",
    "optim = torch.optim.SGD(mlp.parameters(), lr=0.01, momentum=0.9)\n",
    "criterion = torch.nn.CrossEntropyLoss()\n",
    "\n",
    "batch_size = 256"
   ]
  },
  {
   "cell_type": "code",
   "execution_count": null,
   "metadata": {},
   "outputs": [],
   "source": []
  }
 ],
 "metadata": {
  "kernelspec": {
   "display_name": "Python 3",
   "language": "python",
   "name": "python3"
  },
  "language_info": {
   "codemirror_mode": {
    "name": "ipython",
    "version": 3
   },
   "file_extension": ".py",
   "mimetype": "text/x-python",
   "name": "python",
   "nbconvert_exporter": "python",
   "pygments_lexer": "ipython3",
   "version": "3.6.7"
  }
 },
 "nbformat": 4,
 "nbformat_minor": 2
}

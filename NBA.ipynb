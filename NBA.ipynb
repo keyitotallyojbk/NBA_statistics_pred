{
 "cells": [
  {
   "cell_type": "code",
   "execution_count": 2,
   "metadata": {},
   "outputs": [],
   "source": [
    "import pandas as pd\n",
    "import numpy as np\n",
    "from matplotlib import pyplot as plt"
   ]
  },
  {
   "cell_type": "code",
   "execution_count": 10,
   "metadata": {},
   "outputs": [
    {
     "name": "stdout",
     "output_type": "stream",
     "text": [
      "Dataset size: (45920, 24)\n",
      "Dataset attributes: Index(['TEAM', 'DATE', 'MATCHUP', 'W/L', 'MIN', 'PTS', 'FGM', 'FGA', 'FG%',\n",
      "       '3PM', '3PA', '3P%', 'FTM', 'FTA', 'FT%', 'OREB', 'DREB', 'REB', 'AST',\n",
      "       'STL', 'BLK', 'TOV', 'PF', '+/-'],\n",
      "      dtype='object')\n"
     ]
    }
   ],
   "source": [
    "with open('nba_stats.csv', 'r') as f:\n",
    "    data = pd.read_csv(f)\n",
    "\n",
    "print(\"Dataset size: {}\".format(data.shape))\n",
    "print(\"Dataset attributes: {}\".format(data.keys()))"
   ]
  },
  {
   "cell_type": "markdown",
   "metadata": {},
   "source": [
    "<font size=3, color='black'>\n",
    "    <strong>\n",
    "Here we print all the attributes, while some of them are used in the classification step, some are just labels or uninterested information.<br>\n",
    "The reference of each attribute is as follows:<br>\n",
    "<font>\n",
    "<font size=2>\n",
    "    <strong>\n",
    "TEAM: name of the team which the statistics belong to  <br>\n",
    "DATE: match date <br>\n",
    "MATCHUP: team matchup, (A@B suggests A is Away Team and B is Home Team) <br>\n",
    "W/L: win or lose <br>\n",
    "MIN: total minutes spent <br>\n",
    "PTS: achieved points <br>\n",
    "FGM: filed goals made <br>\n",
    "FGA: filed goal attemped <br>\n",
    "FG%: filed goal percentage <br>\n",
    "3PM: three-point filed goals made <br>\n",
    "3PA: three-point filed goals attemped <br>\n",
    "3P%: three-point filed goals precentagte <br>\n",
    "FTM: free throws made <br>\n",
    "FTA: free throws attemped <br>\n",
    "FT%: free throws percentage <br>\n",
    "OREB: offensive rebound <br>\n",
    "DREB: defensive rebound <br>\n",
    "REB: rebounds (OREB + REB) <br>\n",
    "AST: assists <br>\n",
    "STL: steals <br>\n",
    "BLK: blocked shots <br>\n",
    "TOV: turnovers <br>\n",
    "PF: personal fouls <br>\n",
    "+/-: scoring margin <br>\n",
    "    <strong>\n",
    "<font>"
   ]
  },
  {
   "cell_type": "code",
   "execution_count": 11,
   "metadata": {},
   "outputs": [
    {
     "name": "stdout",
     "output_type": "stream",
     "text": [
      "Testset shape: (9184, 19)\t Trainingset shape: (36736, 19)\n"
     ]
    }
   ],
   "source": [
    "# preprocess data, for classification purpose, assign win to 1 and lose to 0\n",
    "data['W/L'] = [1 if i == 'W' else 0 for i in data['W/L']]\n",
    "# randomly split data into 9:1 where 9 for training and 1 for testing\n",
    "data = data.sample(frac=1.0)  \n",
    "cut_idx = int(round(0.2 * data.shape[0]))\n",
    "data_test, data_train = data.iloc[:cut_idx], data.iloc[cut_idx:]\n",
    "\n",
    "drop_list = ['TEAM', 'DATE', 'MATCHUP', 'PTS', '+/-']\n",
    "data_test = data_test.drop(drop_list, axis=1)\n",
    "data_train = data_train.drop(drop_list, axis=1)\n",
    "data_test.to_csv(\"testset.csv\", index=False, header=None)\n",
    "data_train.to_csv(\"trainset.csv\", index=False, header=None)\n",
    "print(\"Testset shape: {}\\t Trainingset shape: {}\".format(data_test.shape, data_train.shape))"
   ]
  },
  {
   "cell_type": "markdown",
   "metadata": {},
   "source": [
    "<font size=4, color='green'>\n",
    "For test case we run a simple random forest algorithm implemented in sklearn:\n",
    "<font>"
   ]
  },
  {
   "cell_type": "code",
   "execution_count": 6,
   "metadata": {},
   "outputs": [],
   "source": [
    "def vis_importance(clf):\n",
    "    # plot the feature importances\n",
    "    fig = plt.figure(figsize=[10, 5])\n",
    "    value = clf.feature_importances_\n",
    "    keys = list(train_set.keys())\n",
    "    x = [i for i in range(len(keys))]\n",
    "    plt.bar(x, value, color='r')\n",
    "    plt.title('Importance of each attribute')\n",
    "    plt.xticks(np.arange(len(x)), keys)\n",
    "    plt.xlabel('Statistic tags')\n",
    "    plt.ylabel('Importance')\n",
    "    plt.grid(ls='--')\n",
    "    plt.show()\n",
    "    "
   ]
  },
  {
   "cell_type": "code",
   "execution_count": 12,
   "metadata": {},
   "outputs": [
    {
     "name": "stdout",
     "output_type": "stream",
     "text": [
      "[0 1 1 ... 1 1 0]\n",
      "0.7939895470383276\n"
     ]
    },
    {
     "data": {
      "image/png": "[encoded data removed]",
      "text/plain": [
       "<Figure size 720x360 with 1 Axes>"
      ]
     },
     "metadata": {
      "needs_background": "light"
     },
     "output_type": "display_data"
    }
   ],
   "source": [
    "from sklearn.ensemble import RandomForestClassifier\n",
    "# first divide raw data into statistics and labels\n",
    "train_set = data_train.drop('W/L', axis=1)\n",
    "train_label = data_train['W/L']\n",
    "test_set = data_test.drop('W/L', axis=1)\n",
    "test_label = data_test['W/L']\n",
    "\n",
    "clf = RandomForestClassifier(max_depth=10, random_state=0)\n",
    "clf.fit(train_set, train_label)\n",
    "print(clf.predict(test_set));\n",
    "print(clf.score(test_set, test_label))\n",
    "\n",
    "vis_importance(clf)\n"
   ]
  },
  {
   "cell_type": "markdown",
   "metadata": {},
   "source": [
    "<font face=consola, size=4>\n",
    "This time we try KNN classifier:\n",
    "<font>"
   ]
  },
  {
   "cell_type": "code",
   "execution_count": 42,
   "metadata": {},
   "outputs": [
    {
     "name": "stdout",
     "output_type": "stream",
     "text": [
      "[1 0 1 ... 0 0 1]\n",
      "0.7597996515679443\n"
     ]
    },
    {
     "ename": "AttributeError",
     "evalue": "'KNeighborsClassifier' object has no attribute 'feature_importances_'",
     "output_type": "error",
     "traceback": [
      "\u001b[0;31m---------------------------------------------------------------------------\u001b[0m",
      "\u001b[0;31mAttributeError\u001b[0m                            Traceback (most recent call last)",
      "\u001b[0;32m<ipython-input-42-6a157cd781ed>\u001b[0m in \u001b[0;36m<module>\u001b[0;34m\u001b[0m\n\u001b[1;32m      5\u001b[0m \u001b[0mprint\u001b[0m\u001b[0;34m(\u001b[0m\u001b[0mneigh\u001b[0m\u001b[0;34m.\u001b[0m\u001b[0mscore\u001b[0m\u001b[0;34m(\u001b[0m\u001b[0mtest_set\u001b[0m\u001b[0;34m,\u001b[0m \u001b[0mtest_label\u001b[0m\u001b[0;34m)\u001b[0m\u001b[0;34m)\u001b[0m\u001b[0;34m\u001b[0m\u001b[0;34m\u001b[0m\u001b[0m\n\u001b[1;32m      6\u001b[0m \u001b[0;34m\u001b[0m\u001b[0m\n\u001b[0;32m----> 7\u001b[0;31m \u001b[0mvis_importance\u001b[0m\u001b[0;34m(\u001b[0m\u001b[0mneigh\u001b[0m\u001b[0;34m)\u001b[0m\u001b[0;34m\u001b[0m\u001b[0;34m\u001b[0m\u001b[0m\n\u001b[0m",
      "\u001b[0;32m<ipython-input-33-2aae3034b014>\u001b[0m in \u001b[0;36mvis_importance\u001b[0;34m(clf)\u001b[0m\n\u001b[1;32m      2\u001b[0m     \u001b[0;31m# plot the feature importances\u001b[0m\u001b[0;34m\u001b[0m\u001b[0;34m\u001b[0m\u001b[0;34m\u001b[0m\u001b[0m\n\u001b[1;32m      3\u001b[0m     \u001b[0mfig\u001b[0m \u001b[0;34m=\u001b[0m \u001b[0mplt\u001b[0m\u001b[0;34m.\u001b[0m\u001b[0mfigure\u001b[0m\u001b[0;34m(\u001b[0m\u001b[0mfigsize\u001b[0m\u001b[0;34m=\u001b[0m\u001b[0;34m[\u001b[0m\u001b[0;36m10\u001b[0m\u001b[0;34m,\u001b[0m \u001b[0;36m5\u001b[0m\u001b[0;34m]\u001b[0m\u001b[0;34m)\u001b[0m\u001b[0;34m\u001b[0m\u001b[0;34m\u001b[0m\u001b[0m\n\u001b[0;32m----> 4\u001b[0;31m     \u001b[0mvalue\u001b[0m \u001b[0;34m=\u001b[0m \u001b[0mclf\u001b[0m\u001b[0;34m.\u001b[0m\u001b[0mfeature_importances_\u001b[0m\u001b[0;34m\u001b[0m\u001b[0;34m\u001b[0m\u001b[0m\n\u001b[0m\u001b[1;32m      5\u001b[0m     \u001b[0mkeys\u001b[0m \u001b[0;34m=\u001b[0m \u001b[0mlist\u001b[0m\u001b[0;34m(\u001b[0m\u001b[0mtrain_set\u001b[0m\u001b[0;34m.\u001b[0m\u001b[0mkeys\u001b[0m\u001b[0;34m(\u001b[0m\u001b[0;34m)\u001b[0m\u001b[0;34m)\u001b[0m\u001b[0;34m\u001b[0m\u001b[0;34m\u001b[0m\u001b[0m\n\u001b[1;32m      6\u001b[0m     \u001b[0mx\u001b[0m \u001b[0;34m=\u001b[0m \u001b[0;34m[\u001b[0m\u001b[0mi\u001b[0m \u001b[0;32mfor\u001b[0m \u001b[0mi\u001b[0m \u001b[0;32min\u001b[0m \u001b[0mrange\u001b[0m\u001b[0;34m(\u001b[0m\u001b[0mlen\u001b[0m\u001b[0;34m(\u001b[0m\u001b[0mkeys\u001b[0m\u001b[0;34m)\u001b[0m\u001b[0;34m)\u001b[0m\u001b[0;34m]\u001b[0m\u001b[0;34m\u001b[0m\u001b[0;34m\u001b[0m\u001b[0m\n",
      "\u001b[0;31mAttributeError\u001b[0m: 'KNeighborsClassifier' object has no attribute 'feature_importances_'"
     ]
    },
    {
     "data": {
      "text/plain": [
       "<Figure size 720x360 with 0 Axes>"
      ]
     },
     "metadata": {},
     "output_type": "display_data"
    }
   ],
   "source": [
    "from sklearn.neighbors import KNeighborsClassifier\n",
    "neigh = KNeighborsClassifier(n_neighbors=3)\n",
    "neigh.fit(train_set, train_label)\n",
    "print(neigh.predict(test_set))\n",
    "print(neigh.score(test_set, test_label))"
   ]
  },
  {
   "cell_type": "markdown",
   "metadata": {},
   "source": [
    "<font face=consola, size=4>\n",
    "Again we try Decision Tree classifier:\n",
    "<font>"
   ]
  },
  {
   "cell_type": "code",
   "execution_count": 36,
   "metadata": {},
   "outputs": [
    {
     "name": "stdout",
     "output_type": "stream",
     "text": [
      "[1 0 1 ... 0 0 1]\n",
      "0.7310540069686411\n"
     ]
    },
    {
     "data": {
      "image/png": "[encoded data removed]",
      "text/plain": [
       "<Figure size 720x360 with 1 Axes>"
      ]
     },
     "metadata": {
      "needs_background": "light"
     },
     "output_type": "display_data"
    }
   ],
   "source": [
    "from sklearn.tree import DecisionTreeClassifier\n",
    "decision_clf = DecisionTreeClassifier(random_state=0)\n",
    "decision_clf.fit(train_set, train_label)\n",
    "print(decision_clf.predict(test_set))\n",
    "print(decision_clf.score(test_set, test_label))\n",
    "\n",
    "vis_importance(decision_clf)"
   ]
  },
  {
   "cell_type": "markdown",
   "metadata": {},
   "source": [
    "<font face=consola, size=4>\n",
    "Logistic Regression classifier:\n",
    "<font>"
   ]
  },
  {
   "cell_type": "code",
   "execution_count": 49,
   "metadata": {},
   "outputs": [
    {
     "name": "stdout",
     "output_type": "stream",
     "text": [
      "[1 0 1 ... 0 0 1]\n",
      "0.8445121951219512\n"
     ]
    }
   ],
   "source": [
    "from sklearn.linear_model import LogisticRegression\n",
    "logic_cls = LogisticRegression(random_state=0).fit(train_set, train_label)\n",
    "print(logic_cls.predict(test_set))\n",
    "print(logic_cls.score(test_set, test_label))"
   ]
  },
  {
   "cell_type": "markdown",
   "metadata": {},
   "source": [
    "<font face=consola, size=4>\n",
    "Support Vector Machine:\n",
    "<font>"
   ]
  },
  {
   "cell_type": "code",
   "execution_count": 50,
   "metadata": {},
   "outputs": [
    {
     "name": "stdout",
     "output_type": "stream",
     "text": [
      "[0 0 1 ... 0 0 1]\n",
      "0.7092770034843205\n"
     ]
    }
   ],
   "source": [
    "from sklearn.svm import SVC\n",
    "svm_cls = SVC(gamma='auto').fit(train_set, train_label)\n",
    "print(svm_cls.predict(test_set))\n",
    "print(svm_cls.score(test_set, test_label))"
   ]
  },
  {
   "cell_type": "markdown",
   "metadata": {},
   "source": [
    "<font face=consola, size=4>\n",
    "Here we try multi-layer preceptron implemented by pytorch, we leverage Adam optimizer and CrossEntropy loss to deal with dataset of batch 256. However, such neural network method seems not better than logistic regression.\n",
    "<font>"
   ]
  },
  {
   "cell_type": "code",
   "execution_count": 18,
   "metadata": {},
   "outputs": [
    {
     "name": "stderr",
     "output_type": "stream",
     "text": [
      "Traceback (most recent call last):\n",
      "  File \"/opt/conda/lib/python3.6/multiprocessing/queues.py\", line 240, in _feed\n",
      "    send_bytes(obj)\n",
      "  File \"/opt/conda/lib/python3.6/multiprocessing/connection.py\", line 200, in send_bytes\n",
      "    self._send_bytes(m[offset:offset + size])\n",
      "  File \"/opt/conda/lib/python3.6/multiprocessing/connection.py\", line 404, in _send_bytes\n",
      "    self._send(header + buf)\n",
      "  File \"/opt/conda/lib/python3.6/multiprocessing/connection.py\", line 368, in _send\n",
      "    n = write(self._handle, buf)\n",
      "BrokenPipeError: [Errno 32] Broken pipe\n"
     ]
    },
    {
     "ename": "KeyboardInterrupt",
     "evalue": "",
     "output_type": "error",
     "traceback": [
      "\u001b[0;31m---------------------------------------------------------------------------\u001b[0m",
      "\u001b[0;31mKeyboardInterrupt\u001b[0m                         Traceback (most recent call last)",
      "\u001b[0;32m<ipython-input-18-6503a7fe193c>\u001b[0m in \u001b[0;36m<module>\u001b[0;34m\u001b[0m\n\u001b[1;32m     67\u001b[0m         \u001b[0mloss\u001b[0m \u001b[0;34m=\u001b[0m \u001b[0mcriterion\u001b[0m\u001b[0;34m(\u001b[0m\u001b[0moutput\u001b[0m\u001b[0;34m,\u001b[0m \u001b[0mlabels\u001b[0m\u001b[0;34m)\u001b[0m\u001b[0;34m\u001b[0m\u001b[0;34m\u001b[0m\u001b[0m\n\u001b[1;32m     68\u001b[0m         \u001b[0mlosses\u001b[0m\u001b[0;34m.\u001b[0m\u001b[0mappend\u001b[0m\u001b[0;34m(\u001b[0m\u001b[0mloss\u001b[0m\u001b[0;34m.\u001b[0m\u001b[0mitem\u001b[0m\u001b[0;34m(\u001b[0m\u001b[0;34m)\u001b[0m\u001b[0;34m)\u001b[0m\u001b[0;34m\u001b[0m\u001b[0;34m\u001b[0m\u001b[0m\n\u001b[0;32m---> 69\u001b[0;31m         \u001b[0mloss\u001b[0m\u001b[0;34m.\u001b[0m\u001b[0mbackward\u001b[0m\u001b[0;34m(\u001b[0m\u001b[0;34m)\u001b[0m\u001b[0;34m\u001b[0m\u001b[0;34m\u001b[0m\u001b[0m\n\u001b[0m\u001b[1;32m     70\u001b[0m         \u001b[0moptim\u001b[0m\u001b[0;34m.\u001b[0m\u001b[0mstep\u001b[0m\u001b[0;34m(\u001b[0m\u001b[0;34m)\u001b[0m\u001b[0;34m\u001b[0m\u001b[0;34m\u001b[0m\u001b[0m\n\u001b[1;32m     71\u001b[0m \u001b[0;34m\u001b[0m\u001b[0m\n",
      "\u001b[0;32m/opt/conda/lib/python3.6/site-packages/torch/tensor.py\u001b[0m in \u001b[0;36mbackward\u001b[0;34m(self, gradient, retain_graph, create_graph)\u001b[0m\n\u001b[1;32m    100\u001b[0m                 \u001b[0mproducts\u001b[0m\u001b[0;34m.\u001b[0m \u001b[0mDefaults\u001b[0m \u001b[0mto\u001b[0m\u001b[0;31m \u001b[0m\u001b[0;31m`\u001b[0m\u001b[0;31m`\u001b[0m\u001b[0;32mFalse\u001b[0m\u001b[0;31m`\u001b[0m\u001b[0;31m`\u001b[0m\u001b[0;34m.\u001b[0m\u001b[0;34m\u001b[0m\u001b[0;34m\u001b[0m\u001b[0m\n\u001b[1;32m    101\u001b[0m         \"\"\"\n\u001b[0;32m--> 102\u001b[0;31m         \u001b[0mtorch\u001b[0m\u001b[0;34m.\u001b[0m\u001b[0mautograd\u001b[0m\u001b[0;34m.\u001b[0m\u001b[0mbackward\u001b[0m\u001b[0;34m(\u001b[0m\u001b[0mself\u001b[0m\u001b[0;34m,\u001b[0m \u001b[0mgradient\u001b[0m\u001b[0;34m,\u001b[0m \u001b[0mretain_graph\u001b[0m\u001b[0;34m,\u001b[0m \u001b[0mcreate_graph\u001b[0m\u001b[0;34m)\u001b[0m\u001b[0;34m\u001b[0m\u001b[0;34m\u001b[0m\u001b[0m\n\u001b[0m\u001b[1;32m    103\u001b[0m \u001b[0;34m\u001b[0m\u001b[0m\n\u001b[1;32m    104\u001b[0m     \u001b[0;32mdef\u001b[0m \u001b[0mregister_hook\u001b[0m\u001b[0;34m(\u001b[0m\u001b[0mself\u001b[0m\u001b[0;34m,\u001b[0m \u001b[0mhook\u001b[0m\u001b[0;34m)\u001b[0m\u001b[0;34m:\u001b[0m\u001b[0;34m\u001b[0m\u001b[0;34m\u001b[0m\u001b[0m\n",
      "\u001b[0;32m/opt/conda/lib/python3.6/site-packages/torch/autograd/__init__.py\u001b[0m in \u001b[0;36mbackward\u001b[0;34m(tensors, grad_tensors, retain_graph, create_graph, grad_variables)\u001b[0m\n\u001b[1;32m     88\u001b[0m     Variable._execution_engine.run_backward(\n\u001b[1;32m     89\u001b[0m         \u001b[0mtensors\u001b[0m\u001b[0;34m,\u001b[0m \u001b[0mgrad_tensors\u001b[0m\u001b[0;34m,\u001b[0m \u001b[0mretain_graph\u001b[0m\u001b[0;34m,\u001b[0m \u001b[0mcreate_graph\u001b[0m\u001b[0;34m,\u001b[0m\u001b[0;34m\u001b[0m\u001b[0;34m\u001b[0m\u001b[0m\n\u001b[0;32m---> 90\u001b[0;31m         allow_unreachable=True)  # allow_unreachable flag\n\u001b[0m\u001b[1;32m     91\u001b[0m \u001b[0;34m\u001b[0m\u001b[0m\n\u001b[1;32m     92\u001b[0m \u001b[0;34m\u001b[0m\u001b[0m\n",
      "\u001b[0;31mKeyboardInterrupt\u001b[0m: "
     ]
    }
   ],
   "source": [
    "import torch\n",
    "import torch.utils.data as data\n",
    "import torch.nn as nn\n",
    "\n",
    "class MLP(nn.Module):\n",
    "    def __init__(self, n_feat, n_classes):\n",
    "        super(MLP, self).__init__()\n",
    "        self.layer1 = nn.Sequential(\n",
    "            nn.Linear(n_feat, 10),\n",
    "            nn.ReLU(),\n",
    "        )\n",
    "        self.layer2 = nn.Sequential(\n",
    "            nn.Linear(10, 10),\n",
    "            nn.ReLU(),\n",
    "        )\n",
    "        self.classifier = nn.Linear(10, n_classes)\n",
    "    \n",
    "    def forward(self, x):\n",
    "        x = self.layer1(x)\n",
    "        x = self.layer2(x)\n",
    "        output = self.classifier(x)\n",
    "        return output\n",
    "\n",
    "    \n",
    "class nba_data(torch.utils.data.Dataset):\n",
    "    def __init__(self, raw_data):\n",
    "        self.samples, self.labels = raw_data\n",
    "    \n",
    "    def __getitem__(self, index):\n",
    "        samples = self.samples[index]\n",
    "        labels = self.labels[index]\n",
    "        \n",
    "        return samples, labels\n",
    "    \n",
    "    def __len__(self):\n",
    "        return self.samples.shape[0]\n",
    "\n",
    "train_set = np.array(train_set, dtype=np.float32)\n",
    "train_label = np.array(train_label)\n",
    "test_set = np.array(test_set, dtype=np.float32)\n",
    "test_label = np.array(test_label)\n",
    "trainset = nba_data((train_set, train_label))\n",
    "train_loader = torch.utils.data.DataLoader(trainset, batch_size=256, num_workers=4, shuffle=True)\n",
    "testset = nba_data((test_set, test_label))\n",
    "test_loader = torch.utils.data.DataLoader(testset, batch_size=256, num_workers=4, shuffle=False)\n",
    "\n",
    "mlp = MLP(n_feat=train_set.shape[1], n_classes=2)\n",
    "optim = torch.optim.Adam(mlp.parameters(), lr = 1e-3)\n",
    "criterion = torch.nn.CrossEntropyLoss()\n",
    "\n",
    "# training epochs\n",
    "# set netowrk in training mode\n",
    "mlp.train()\n",
    "for epoch in range(10):\n",
    "    losses = []\n",
    "    correct = 0.0\n",
    "    for i, (datas,labels) in enumerate(train_loader):\n",
    "\n",
    "        optim.zero_grad()\n",
    "        \n",
    "        datas = torch.FloatTensor(datas)\n",
    "        labels = torch.LongTensor(labels)\n",
    "        output = mlp(datas)\n",
    "        \n",
    "        _, pred = output.max(1)\n",
    "        correct += (pred==labels).sum()\n",
    "        loss = criterion(output, labels)\n",
    "        losses.append(loss.item())\n",
    "        loss.backward()\n",
    "        optim.step()\n",
    "        \n",
    "    avg_loss = sum(losses) / len(losses)\n",
    "    train_acc = float(correct) / train_set.shape[0]\n",
    "    print(\"Epoch{}\\tLoss:{:.4f}\\tAcc:{:.4f}%\".format(epoch, avg_loss, train_acc*100))\n",
    "\n",
    "\n",
    "test_loss = []\n",
    "correct = 0.0\n",
    "mlp.eval()\n",
    "for i, (datas,labels) in enumerate(test_loader):\n",
    "        \n",
    "        datas = torch.FloatTensor(datas)\n",
    "        labels = torch.LongTensor(labels)\n",
    "        output = mlp(datas)\n",
    "        \n",
    "        loss = criterion(output, labels)\n",
    "        test_loss.append(loss.item())\n",
    "        \n",
    "        _, pred = output.max(1)\n",
    "        correct += (pred == labels).sum() \n",
    "        \n",
    "avg_loss = sum(test_loss) / len(test_loss)\n",
    "avg_acc = float(correct) / test_set.shape[0]\n",
    "print(\"TestAcc:{:.4f}%\\tTestLoss:{:.4f}\\t\".format(avg_acc*100, avg_loss))"
   ]
  },
  {
   "cell_type": "markdown",
   "metadata": {},
   "source": [
    "**Now we test our classifiers on the playoff statistics**"
   ]
  },
  {
   "cell_type": "code",
   "execution_count": 9,
   "metadata": {},
   "outputs": [],
   "source": [
    "# test data on playoff matches and pre-processings\n",
    "with open('playoffs.csv', 'r') as f:\n",
    "    test2 = pd.read_csv(f)\n",
    "\n",
    "test2['W/L'] = [1 if i == 'W' else 0 for i in test2['W/L']]\n",
    "drop_list = ['TEAM', 'DATE', 'MATCHUP', 'PTS', '+/-']    \n",
    "test2 = test2.drop(drop_list, axis=1)\n",
    "test2_set = test2.drop('W/L', axis=1)\n",
    "test2_label = test2['W/L']"
   ]
  },
  {
   "cell_type": "code",
   "execution_count": 54,
   "metadata": {},
   "outputs": [
    {
     "name": "stdout",
     "output_type": "stream",
     "text": [
      "Test Acc on RandomForest:0.8014\n",
      "Test Acc on KNN:0.7578\n",
      "Test Acc on LogisticRegression:0.8617\n",
      "Test Acc on DecisionTree:0.7479\n",
      "Test Acc on SVM:0.6432\n"
     ]
    },
    {
     "ename": "NameError",
     "evalue": "name 'test_set2' is not defined",
     "output_type": "error",
     "traceback": [
      "\u001b[0;31m---------------------------------------------------------------------------\u001b[0m",
      "\u001b[0;31mNameError\u001b[0m                                 Traceback (most recent call last)",
      "\u001b[0;32m<ipython-input-54-18481c2b3ad0>\u001b[0m in \u001b[0;36m<module>\u001b[0;34m\u001b[0m\n\u001b[1;32m      7\u001b[0m \u001b[0;34m\u001b[0m\u001b[0m\n\u001b[1;32m      8\u001b[0m \u001b[0;31m# pytorch implementation\u001b[0m\u001b[0;34m\u001b[0m\u001b[0;34m\u001b[0m\u001b[0;34m\u001b[0m\u001b[0m\n\u001b[0;32m----> 9\u001b[0;31m \u001b[0mtest_set2\u001b[0m \u001b[0;34m=\u001b[0m \u001b[0mnp\u001b[0m\u001b[0;34m.\u001b[0m\u001b[0marray\u001b[0m\u001b[0;34m(\u001b[0m\u001b[0mtest_set2\u001b[0m\u001b[0;34m,\u001b[0m \u001b[0mdtype\u001b[0m\u001b[0;34m=\u001b[0m\u001b[0mnp\u001b[0m\u001b[0;34m.\u001b[0m\u001b[0mfloat32\u001b[0m\u001b[0;34m)\u001b[0m\u001b[0;34m\u001b[0m\u001b[0;34m\u001b[0m\u001b[0m\n\u001b[0m\u001b[1;32m     10\u001b[0m \u001b[0mtest_label2\u001b[0m \u001b[0;34m=\u001b[0m \u001b[0mnp\u001b[0m\u001b[0;34m.\u001b[0m\u001b[0marray\u001b[0m\u001b[0;34m(\u001b[0m\u001b[0mtest_label2\u001b[0m\u001b[0;34m)\u001b[0m\u001b[0;34m\u001b[0m\u001b[0;34m\u001b[0m\u001b[0m\n\u001b[1;32m     11\u001b[0m \u001b[0mtestset2\u001b[0m \u001b[0;34m=\u001b[0m \u001b[0mnba_data\u001b[0m\u001b[0;34m(\u001b[0m\u001b[0;34m(\u001b[0m\u001b[0mtest2_set\u001b[0m\u001b[0;34m,\u001b[0m \u001b[0mtest2_label\u001b[0m\u001b[0;34m)\u001b[0m\u001b[0;34m)\u001b[0m\u001b[0;34m\u001b[0m\u001b[0;34m\u001b[0m\u001b[0m\n",
      "\u001b[0;31mNameError\u001b[0m: name 'test_set2' is not defined"
     ]
    }
   ],
   "source": [
    "# sklearn methods\n",
    "print(\"Test Acc on RandomForest:{:.4f}\".format(clf.score(test2_set, test2_label)))\n",
    "print(\"Test Acc on KNN:{:.4f}\".format(neigh.score(test2_set, test2_label)))\n",
    "print(\"Test Acc on LogisticRegression:{:.4f}\".format(logic_cls.score(test2_set, test2_label)))\n",
    "print(\"Test Acc on DecisionTree:{:.4f}\".format(decision_clf.score(test2_set, test2_label)))\n",
    "print(\"Test Acc on SVM:{:.4f}\".format(svm_cls.score(test2_set, test2_label)))\n",
    "\n",
    "# pytorch implementation\n",
    "test2_set = np.array(test2_set, dtype=np.float32)\n",
    "test2_label = np.array(test2_label)\n",
    "testset2 = nba_data((test2_set, test2_label))\n",
    "test_loader = torch.utils.data.DataLoader(testset2, batch_size=256, num_workers=4, shuffle=False)\n",
    "\n",
    "test_loss = []\n",
    "correct = 0.0\n",
    "mlp.eval()\n",
    "\n",
    "for i, (data,labels) in enumerate(test_loader):\n",
    "        \n",
    "        data = torch.FloatTensor(data)\n",
    "        labels = torch.LongTensor(labels)\n",
    "        output = mlp(data)\n",
    "        \n",
    "        loss = criterion(output, labels)\n",
    "        test_loss.append(loss.item())\n",
    "        \n",
    "        _, pred = output.max(1)\n",
    "        correct += (pred == labels).sum() \n",
    "        \n",
    "avg_loss = sum(test_loss) / len(test_loss)\n",
    "avg_acc = float(correct) / test_set2.shape[0]\n",
    "print(\"Test Acc on MLP:{:.4f}%\\tTestLoss:{:.4f}\\t\".format(avg_acc*100, avg_loss))"
   ]
  },
  {
   "cell_type": "code",
   "execution_count": null,
   "metadata": {},
   "outputs": [],
   "source": []
  }
 ],
 "metadata": {
  "kernelspec": {
   "display_name": "Python 3",
   "language": "python",
   "name": "python3"
  }
 },
 "nbformat": 4,
 "nbformat_minor": 2
}

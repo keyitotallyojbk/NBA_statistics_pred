{
 "cells": [
  {
   "cell_type": "code",
   "execution_count": 3,
   "metadata": {},
   "outputs": [],
   "source": [
    "import pandas as pd\n",
    "import numpy as np\n",
    "from matplotlib import pyplot as plt"
   ]
  },
  {
   "cell_type": "code",
   "execution_count": 4,
   "metadata": {},
   "outputs": [
    {
     "name": "stdout",
     "output_type": "stream",
     "text": [
      "Dataset size: (45920, 24)\n",
      "Dataset attributes: Index(['TEAM', 'DATE', 'MATCHUP', 'W/L', 'MIN', 'PTS', 'FGM', 'FGA', 'FG%',\n",
      "       '3PM', '3PA', '3P%', 'FTM', 'FTA', 'FT%', 'OREB', 'DREB', 'REB', 'AST',\n",
      "       'STL', 'BLK', 'TOV', 'PF', '+/-'],\n",
      "      dtype='object')\n"
     ]
    }
   ],
   "source": [
    "with open('nba_stats.csv', 'r') as f:\n",
    "    data = pd.read_csv(f)\n",
    "\n",
    "print(\"Dataset size: {}\".format(data.shape))\n",
    "print(\"Dataset attributes: {}\".format(data.keys()))"
   ]
  },
  {
   "cell_type": "markdown",
   "metadata": {},
   "source": [
    "<font size=3, color='black'>\n",
    "    <strong>\n",
    "Here we print all the attributes, while some of them are used in the classification step, some are just labels or uninterested information.<br>\n",
    "The reference of each attribute is as follows:<br>\n",
    "<font>\n",
    "<font size=2>\n",
    "    <strong>\n",
    "TEAM: name of the team which the statistics belong to  <br>\n",
    "DATE: match date <br>\n",
    "MATCHUP: team matchup, (A@B suggests A is Away Team and B is Home Team) <br>\n",
    "W/L: win or lose <br>\n",
    "MIN: total minutes spent <br>\n",
    "PTS: achieved points <br>\n",
    "FGM: filed goals made <br>\n",
    "FGA: filed goal attemped <br>\n",
    "FG%: filed goal percentage <br>\n",
    "3PM: three-point filed goals made <br>\n",
    "3PA: three-point filed goals attemped <br>\n",
    "3P%: three-point filed goals precentagte <br>\n",
    "FTM: free throws made <br>\n",
    "FTA: free throws attemped <br>\n",
    "FT%: free throws percentage <br>\n",
    "OREB: offensive rebound <br>\n",
    "DREB: defensive rebound <br>\n",
    "REB: rebounds (OREB + REB) <br>\n",
    "AST: assists <br>\n",
    "STL: steals <br>\n",
    "BLK: blocked shots <br>\n",
    "TOV: turnovers <br>\n",
    "PF: personal fouls <br>\n",
    "+/-: scoring margin <br>\n",
    "    <strong>\n",
    "<font>"
   ]
  },
  {
   "cell_type": "code",
   "execution_count": 5,
   "metadata": {},
   "outputs": [
    {
     "name": "stdout",
     "output_type": "stream",
     "text": [
      "Testset shape: (9184, 19)\t Trainingset shape: (36736, 19)\n"
     ]
    }
   ],
   "source": [
    "# preprocess data, for classification purpose, assign win to 1 and lose to 0\n",
    "data['W/L'] = [1 if i == 'W' else 0 for i in data['W/L']]\n",
    "# randomly split data into 9:1 where 9 for training and 1 for testing\n",
    "data = data.sample(frac=1.0)  \n",
    "cut_idx = int(round(0.2 * data.shape[0]))\n",
    "data_test, data_train = data.iloc[:cut_idx], data.iloc[cut_idx:]\n",
    "\n",
    "drop_list = ['TEAM', 'DATE', 'MATCHUP', 'PTS', '+/-']\n",
    "data_test = data_test.drop(drop_list, axis=1)\n",
    "data_train = data_train.drop(drop_list, axis=1)\n",
    "data_test.to_csv(\"testset.csv\", index=False, header=None)\n",
    "data_train.to_csv(\"trainset.csv\", index=False, header=None)\n",
    "print(\"Testset shape: {}\\t Trainingset shape: {}\".format(data_test.shape, data_train.shape))"
   ]
  },
  {
   "cell_type": "markdown",
   "metadata": {},
   "source": [
    "<font size=4, color='green'>\n",
    "For test case we run a simple random forest algorithm implemented in sklearn:\n",
    "<font>"
   ]
  },
  {
   "cell_type": "code",
   "execution_count": 6,
   "metadata": {},
   "outputs": [
    {
     "name": "stderr",
     "output_type": "stream",
     "text": [
      "/opt/conda/lib/python3.6/site-packages/sklearn/ensemble/weight_boosting.py:29: DeprecationWarning: numpy.core.umath_tests is an internal NumPy module and should not be imported. It will be removed in a future NumPy release.\n",
      "  from numpy.core.umath_tests import inner1d\n"
     ]
    },
    {
     "name": "stdout",
     "output_type": "stream",
     "text": [
      "[0 1 1 ... 1 1 0]\n",
      "0.7986716027874564\n"
     ]
    }
   ],
   "source": [
    "from sklearn.ensemble import RandomForestClassifier\n",
    "# first divide raw data into statistics and labels\n",
    "train_set = data_train.drop('W/L', axis=1)\n",
    "train_label = data_train['W/L']\n",
    "test_set = data_test.drop('W/L', axis=1)\n",
    "test_label = data_test['W/L']\n",
    "\n",
    "clf = RandomForestClassifier(max_depth=10, random_state=0)\n",
    "clf.fit(train_set, train_label)\n",
    "print(clf.predict(test_set));\n",
    "print(clf.score(test_set, test_label))"
   ]
  },
  {
   "cell_type": "markdown",
   "metadata": {},
   "source": [
    "<font face=consola, size=4>\n",
    "This time we try KNN classifier:\n",
    "<font>"
   ]
  },
  {
   "cell_type": "code",
   "execution_count": 51,
   "metadata": {},
   "outputs": [
    {
     "name": "stdout",
     "output_type": "stream",
     "text": [
      "[0 0 0 ... 1 1 1]\n",
      "0.7525043554006968\n"
     ]
    }
   ],
   "source": [
    "from sklearn.neighbors import KNeighborsClassifier\n",
    "neigh = KNeighborsClassifier(n_neighbors=3)\n",
    "neigh.fit(train_set, train_label)\n",
    "print(neigh.predict(test_set))\n",
    "print(neigh.score(test_set, test_label))"
   ]
  },
  {
   "cell_type": "markdown",
   "metadata": {},
   "source": [
    "<font face=consola, size=4>\n",
    "Again we try Decision Tree classifier:\n",
    "<font>"
   ]
  },
  {
   "cell_type": "code",
   "execution_count": 53,
   "metadata": {},
   "outputs": [
    {
     "name": "stdout",
     "output_type": "stream",
     "text": [
      "[1 1 1 ... 1 0 1]\n",
      "0.739329268292683\n"
     ]
    }
   ],
   "source": [
    "from sklearn.tree import DecisionTreeClassifier\n",
    "decision_clf = DecisionTreeClassifier(random_state=0)\n",
    "decision_clf.fit(train_set, train_label)\n",
    "print(decision_clf.predict(test_set))\n",
    "print(decision_clf.score(test_set, test_label))"
   ]
  },
  {
   "cell_type": "markdown",
   "metadata": {},
   "source": [
    "<font face=consola, size=4>\n",
    "Logistic Regression classifier:\n",
    "<font>"
   ]
  },
  {
   "cell_type": "code",
   "execution_count": 54,
   "metadata": {},
   "outputs": [
    {
     "name": "stdout",
     "output_type": "stream",
     "text": [
      "[0 1 0 ... 1 0 1]\n",
      "0.8422256097560976\n"
     ]
    }
   ],
   "source": [
    "from sklearn.linear_model import LogisticRegression\n",
    "logic_cls = LogisticRegression(random_state=0).fit(train_set, train_label)\n",
    "print(logic_cls.predict(test_set))\n",
    "print(logic_cls.score(test_set, test_label))"
   ]
  },
  {
   "cell_type": "markdown",
   "metadata": {},
   "source": [
    "<font face=consola, size=4>\n",
    "Support Vector Machine:\n",
    "<font>"
   ]
  },
  {
   "cell_type": "code",
   "execution_count": 57,
   "metadata": {},
   "outputs": [
    {
     "name": "stdout",
     "output_type": "stream",
     "text": [
      "[1 1 1 ... 1 1 1]\n",
      "0.6821646341463414\n"
     ]
    }
   ],
   "source": [
    "from sklearn.svm import SVC\n",
    "svm_cls = SVC(gamma='auto').fit(train_set, train_label)\n",
    "print(svm_cls.predict(test_set))\n",
    "print(svm_cls.score(test_set, test_label))"
   ]
  },
  {
   "cell_type": "markdown",
   "metadata": {},
   "source": [
    "<font face=consola, size=4>\n",
    "Here we try multi-layer preceptron implemented by pytorch, we leverage Adam optimizer and CrossEntropy loss to deal with dataset of batch 256. However, such neural network method seems not better than logistic regression.\n",
    "<font>"
   ]
  },
  {
   "cell_type": "code",
   "execution_count": 35,
   "metadata": {},
   "outputs": [
    {
     "name": "stdout",
     "output_type": "stream",
     "text": [
      "Epoch0\tLoss:0.6662\tAcc:59.5792%\n",
      "Epoch1\tLoss:0.5872\tAcc:69.6810%\n",
      "Epoch2\tLoss:0.5248\tAcc:74.8176%\n",
      "Epoch3\tLoss:0.4745\tAcc:78.0079%\n",
      "Epoch4\tLoss:0.4413\tAcc:79.6385%\n",
      "Epoch5\tLoss:0.4187\tAcc:80.7029%\n",
      "Epoch6\tLoss:0.4066\tAcc:81.4405%\n",
      "Epoch7\tLoss:0.3974\tAcc:81.9686%\n",
      "Epoch8\tLoss:0.3904\tAcc:82.2953%\n",
      "Epoch9\tLoss:0.3860\tAcc:82.5784%\n",
      "TestAcc:82.98127177700349%\tTestLoss:0.3770\t\n"
     ]
    }
   ],
   "source": [
    "import torch\n",
    "#import torch.utils.data as data\n",
    "import torch.nn as nn\n",
    "\n",
    "class MLP(nn.Module):\n",
    "    def __init__(self, n_feat, n_classes):\n",
    "        super(MLP, self).__init__()\n",
    "        self.layer1 = nn.Sequential(\n",
    "            nn.Linear(n_feat, 10),\n",
    "            nn.ReLU(),\n",
    "        )\n",
    "        self.layer2 = nn.Sequential(\n",
    "            nn.Linear(10, 10),\n",
    "            nn.ReLU(),\n",
    "        )\n",
    "        self.classifier = nn.Linear(10, n_classes)\n",
    "    \n",
    "    def forward(self, x):\n",
    "        x = self.layer1(x)\n",
    "        x = self.layer2(x)\n",
    "        output = self.classifier(x)\n",
    "        return output\n",
    "\n",
    "    \n",
    "class nba_data(torch.utils.data.Dataset):\n",
    "    def __init__(self, raw_data):\n",
    "        self.samples, self.labels = raw_data\n",
    "    \n",
    "    def __getitem__(self, index):\n",
    "        samples = self.samples[index]\n",
    "        labels = self.labels[index]\n",
    "        \n",
    "        return samples, labels\n",
    "    \n",
    "    def __len__(self):\n",
    "        return self.samples.shape[0]\n",
    "\n",
    "train_set = np.array(train_set, dtype=np.float32)\n",
    "train_label = np.array(train_label)\n",
    "test_set = np.array(test_set, dtype=np.float32)\n",
    "test_label = np.array(test_label)\n",
    "trainset = nba_data((train_set, train_label))\n",
    "train_loader = torch.utils.data.DataLoader(trainset, batch_size=256, num_workers=4, shuffle=True)\n",
    "testset = nba_data((test_set, test_label))\n",
    "test_loader = torch.utils.data.DataLoader(testset, batch_size=256, num_workers=4, shuffle=False)\n",
    "\n",
    "mlp = MLP(n_feat=train_set.shape[1], n_classes=2)\n",
    "optim = torch.optim.Adam(mlp.parameters(), lr = 1e-3)\n",
    "criterion = torch.nn.CrossEntropyLoss()\n",
    "\n",
    "# training epochs\n",
    "for epoch in range(10):\n",
    "    losses = []\n",
    "    correct = 0.0\n",
    "    mlp.train() # set netowrk in training mode\n",
    "    for i, (data,labels) in enumerate(train_loader):\n",
    "        optim.zero_grad()\n",
    "        \n",
    "        data = torch.FloatTensor(data)\n",
    "        labels = torch.LongTensor(labels)\n",
    "        output = mlp(data)\n",
    "        \n",
    "        _, pred = output.max(1)\n",
    "        correct += (pred==labels).sum()\n",
    "        loss = criterion(output, labels)\n",
    "        losses.append(loss.item())\n",
    "        loss.backward()\n",
    "        optim.step()\n",
    "        \n",
    "    avg_loss = sum(losses) / len(losses)\n",
    "    train_acc = float(correct) / train_set.shape[0]\n",
    "    print(\"Epoch{}\\tLoss:{:.4f}\\tAcc:{:.4f}%\".format(epoch, avg_loss, train_acc*100))\n",
    "\n",
    "\n",
    "test_loss = []\n",
    "correct = 0.0\n",
    "mlp.eval()\n",
    "for i, (data,labels) in enumerate(test_loader):\n",
    "        \n",
    "        data = torch.FloatTensor(data)\n",
    "        labels = torch.LongTensor(labels)\n",
    "        output = mlp(data)\n",
    "        \n",
    "        loss = criterion(output, labels)\n",
    "        test_loss.append(loss.item())\n",
    "        \n",
    "        _, pred = output.max(1)\n",
    "        correct += (pred == labels).sum() \n",
    "        \n",
    "avg_loss = sum(test_loss) / len(test_loss)\n",
    "avg_acc = float(correct) / test_set.shape[0]\n",
    "print(\"TestAcc:{:.4f}%\\tTestLoss:{:.4f}\\t\".format(avg_acc*100, avg_loss))"
   ]
  },
  {
   "cell_type": "code",
   "execution_count": null,
   "metadata": {},
   "outputs": [],
   "source": []
  }
 ],
 "metadata": {
  "kernelspec": {
   "display_name": "Python 3",
   "language": "python",
   "name": "python3"
  },
  "language_info": {
   "codemirror_mode": {
    "name": "ipython",
    "version": 3
   },
   "file_extension": ".py",
   "mimetype": "text/x-python",
   "name": "python",
   "nbconvert_exporter": "python",
   "pygments_lexer": "ipython3",
   "version": "3.6.7"
  }
 },
 "nbformat": 4,
 "nbformat_minor": 2
}
